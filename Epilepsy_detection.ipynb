{
 "cells": [
  {
   "cell_type": "code",
   "execution_count": 1,
   "metadata": {},
   "outputs": [],
   "source": [
    "import numpy as np\n",
    "import cv2\n",
    "import pyautogui\n",
    "import time\n",
    "from matplotlib import pyplot as plt"
   ]
  },
  {
   "cell_type": "code",
   "execution_count": 8,
   "metadata": {},
   "outputs": [],
   "source": [
    "#getting first frame\n",
    "imgPrev = pyautogui.screenshot()\n",
    "imgPrev = cv2.cvtColor(np.array(imgPrev), cv2.COLOR_RGB2BGR)\n",
    "\n",
    "#defining number of screen to be divided into     \n",
    "div = 10\n",
    "\n",
    "x, y, z = imgPrev.shape\n",
    "xit = x//div\n",
    "yit = y//div\n",
    "\n",
    "Histogram_comparison_threshold = 0.85\n",
    "Danger_Frame_Limit = 4\n",
    "\n",
    "protection = cv2.imread(\"Seizure_W.jpeg\")\n",
    "\n",
    "DetectionRecord = []"
   ]
  },
  {
   "cell_type": "code",
   "execution_count": 9,
   "metadata": {},
   "outputs": [],
   "source": [
    "def tic():\n",
    "    global t\n",
    "    t = time.time()\n",
    "\n",
    "def toc():\n",
    "    global t\n",
    "    elapsed = time.time() - t\n",
    "    #print(elapsed,\" Seconds Elapsed\")"
   ]
  },
  {
   "cell_type": "code",
   "execution_count": 10,
   "metadata": {},
   "outputs": [],
   "source": [
    "def ScanScreen(imgO, imgN):\n",
    "    dangerMap = np.zeros((div,div),dtype = np.bool)\n",
    "    \n",
    "    #Iterating through the screen divisions\n",
    "    for X in range(0, div):\n",
    "        for Y in range(0, div):\n",
    "            \n",
    "            histS1 = cv2.calcHist([imgO[X*div:(X+1)*div,Y*div:(Y+1)*div]],[0],None,[256],[0,256])\n",
    "            histS2 = cv2.calcHist([imgN[X*div:(X+1)*div,Y*div:(Y+1)*div]],[0],None,[256],[0,256])\n",
    "            #print(\"Histograms img1=\", histS1, \" img2=\", histS2)\n",
    "        \n",
    "            #sc = cv2.compareHist(histS1, histS2, cv2.HISTCMP_INTERSECT)\n",
    "            sc = cv2.compareHist(histS1, histS2, cv2.HISTCMP_BHATTACHARYYA)\n",
    "            #print(\"Compared Hist at X=\", X, \" Y=\", Y, \" : \", sc)\n",
    "            dangerMap[X,Y] = sc > Histogram_comparison_threshold\n",
    "            \n",
    "    return dangerMap"
   ]
  },
  {
   "cell_type": "code",
   "execution_count": 11,
   "metadata": {},
   "outputs": [],
   "source": [
    "def ScanRecord(record):\n",
    "    DangerCounts = np.zeros((div, div),dtype = np.uint8)\n",
    "    \n",
    "    for dMap in record:\n",
    "        DangerCounts = np.add(DangerCounts, dMap.astype(int))\n",
    "    \n",
    "    return np.any(np.greater(DangerCounts, Danger_Frame_Limit))"
   ]
  },
  {
   "cell_type": "code",
   "execution_count": 13,
   "metadata": {},
   "outputs": [
    {
     "name": "stderr",
     "output_type": "stream",
     "text": [
      "C:\\Users\\somes\\AppData\\Local\\Temp\\ipykernel_1456\\1979146888.py:2: DeprecationWarning: `np.bool` is a deprecated alias for the builtin `bool`. To silence this warning, use `bool` by itself. Doing this will not modify any behavior and is safe. If you specifically wanted the numpy scalar type, use `np.bool_` here.\n",
      "Deprecated in NumPy 1.20; for more details and guidance: https://numpy.org/devdocs/release/1.20.0-notes.html#deprecations\n",
      "  dangerMap = np.zeros((div,div),dtype = np.bool)\n"
     ]
    },
    {
     "name": "stdout",
     "output_type": "stream",
     "text": [
      "prevented\n",
      "prevented\n",
      "prevented\n",
      "prevented\n",
      "prevented\n",
      "prevented\n",
      "prevented\n",
      "prevented\n",
      "prevented\n",
      "prevented\n",
      "prevented\n",
      "prevented\n",
      "prevented\n",
      "prevented\n",
      "prevented\n"
     ]
    },
    {
     "ename": "KeyboardInterrupt",
     "evalue": "",
     "output_type": "error",
     "traceback": [
      "\u001b[1;31m---------------------------------------------------------------------------\u001b[0m",
      "\u001b[1;31mKeyboardInterrupt\u001b[0m                         Traceback (most recent call last)",
      "\u001b[1;32me:\\somesh study material\\jiit\\sem-5\\Photosensitive Epilepsy detection\\Epilepsy_detection.ipynb Cell 6'\u001b[0m in \u001b[0;36m<cell line: 5>\u001b[1;34m()\u001b[0m\n\u001b[0;32m      <a href='vscode-notebook-cell:/e%3A/somesh%20study%20material/jiit/sem-5/Photosensitive%20Epilepsy%20detection/Epilepsy_detection.ipynb#ch0000005?line=5'>6</a>\u001b[0m tic()\n\u001b[0;32m      <a href='vscode-notebook-cell:/e%3A/somesh%20study%20material/jiit/sem-5/Photosensitive%20Epilepsy%20detection/Epilepsy_detection.ipynb#ch0000005?line=6'>7</a>\u001b[0m \u001b[39m#getting new frame\u001b[39;00m\n\u001b[1;32m----> <a href='vscode-notebook-cell:/e%3A/somesh%20study%20material/jiit/sem-5/Photosensitive%20Epilepsy%20detection/Epilepsy_detection.ipynb#ch0000005?line=7'>8</a>\u001b[0m imgNew \u001b[39m=\u001b[39m pyautogui\u001b[39m.\u001b[39;49mscreenshot()\n\u001b[0;32m      <a href='vscode-notebook-cell:/e%3A/somesh%20study%20material/jiit/sem-5/Photosensitive%20Epilepsy%20detection/Epilepsy_detection.ipynb#ch0000005?line=8'>9</a>\u001b[0m imgNew \u001b[39m=\u001b[39m cv2\u001b[39m.\u001b[39mcvtColor(np\u001b[39m.\u001b[39marray(imgNew), cv2\u001b[39m.\u001b[39mCOLOR_RGB2BGR)\n\u001b[0;32m     <a href='vscode-notebook-cell:/e%3A/somesh%20study%20material/jiit/sem-5/Photosensitive%20Epilepsy%20detection/Epilepsy_detection.ipynb#ch0000005?line=10'>11</a>\u001b[0m \u001b[39m#checking if screenshot exists\u001b[39;00m\n",
      "File \u001b[1;32mc:\\Users\\somes\\AppData\\Local\\Programs\\Python\\Python310\\lib\\site-packages\\pyscreeze\\__init__.py:145\u001b[0m, in \u001b[0;36mrequiresPillow.<locals>.wrapper\u001b[1;34m(*args, **kwargs)\u001b[0m\n\u001b[0;32m    143\u001b[0m \u001b[39mif\u001b[39;00m _PILLOW_UNAVAILABLE:\n\u001b[0;32m    144\u001b[0m     \u001b[39mraise\u001b[39;00m PyScreezeException(\u001b[39m'\u001b[39m\u001b[39mThe Pillow package is required to use this function.\u001b[39m\u001b[39m'\u001b[39m)\n\u001b[1;32m--> 145\u001b[0m \u001b[39mreturn\u001b[39;00m wrappedFunction(\u001b[39m*\u001b[39margs, \u001b[39m*\u001b[39m\u001b[39m*\u001b[39mkwargs)\n",
      "File \u001b[1;32mc:\\Users\\somes\\AppData\\Local\\Programs\\Python\\Python310\\lib\\site-packages\\pyscreeze\\__init__.py:457\u001b[0m, in \u001b[0;36m_screenshot_win32\u001b[1;34m(imageFilename, region)\u001b[0m\n\u001b[0;32m    452\u001b[0m \u001b[39m\"\"\"\u001b[39;00m\n\u001b[0;32m    453\u001b[0m \u001b[39mTODO\u001b[39;00m\n\u001b[0;32m    454\u001b[0m \u001b[39m\"\"\"\u001b[39;00m\n\u001b[0;32m    455\u001b[0m \u001b[39m# TODO - Use the winapi to get a screenshot, and compare performance with ImageGrab.grab()\u001b[39;00m\n\u001b[0;32m    456\u001b[0m \u001b[39m# https://stackoverflow.com/a/3586280/1893164\u001b[39;00m\n\u001b[1;32m--> 457\u001b[0m im \u001b[39m=\u001b[39m ImageGrab\u001b[39m.\u001b[39;49mgrab()\n\u001b[0;32m    458\u001b[0m \u001b[39mif\u001b[39;00m region \u001b[39mis\u001b[39;00m \u001b[39mnot\u001b[39;00m \u001b[39mNone\u001b[39;00m:\n\u001b[0;32m    459\u001b[0m     \u001b[39massert\u001b[39;00m \u001b[39mlen\u001b[39m(region) \u001b[39m==\u001b[39m \u001b[39m4\u001b[39m, \u001b[39m'\u001b[39m\u001b[39mregion argument must be a tuple of four ints\u001b[39m\u001b[39m'\u001b[39m\n",
      "File \u001b[1;32mc:\\Users\\somes\\AppData\\Local\\Programs\\Python\\Python310\\lib\\site-packages\\PIL\\ImageGrab.py:46\u001b[0m, in \u001b[0;36mgrab\u001b[1;34m(bbox, include_layered_windows, all_screens, xdisplay)\u001b[0m\n\u001b[0;32m     42\u001b[0m \u001b[39melif\u001b[39;00m sys\u001b[39m.\u001b[39mplatform \u001b[39m==\u001b[39m \u001b[39m\"\u001b[39m\u001b[39mwin32\u001b[39m\u001b[39m\"\u001b[39m:\n\u001b[0;32m     43\u001b[0m     offset, size, data \u001b[39m=\u001b[39m Image\u001b[39m.\u001b[39mcore\u001b[39m.\u001b[39mgrabscreen_win32(\n\u001b[0;32m     44\u001b[0m         include_layered_windows, all_screens\n\u001b[0;32m     45\u001b[0m     )\n\u001b[1;32m---> 46\u001b[0m     im \u001b[39m=\u001b[39m Image\u001b[39m.\u001b[39;49mfrombytes(\n\u001b[0;32m     47\u001b[0m         \u001b[39m\"\u001b[39;49m\u001b[39mRGB\u001b[39;49m\u001b[39m\"\u001b[39;49m,\n\u001b[0;32m     48\u001b[0m         size,\n\u001b[0;32m     49\u001b[0m         data,\n\u001b[0;32m     50\u001b[0m         \u001b[39m# RGB, 32-bit line padding, origin lower left corner\u001b[39;49;00m\n\u001b[0;32m     51\u001b[0m         \u001b[39m\"\u001b[39;49m\u001b[39mraw\u001b[39;49m\u001b[39m\"\u001b[39;49m,\n\u001b[0;32m     52\u001b[0m         \u001b[39m\"\u001b[39;49m\u001b[39mBGR\u001b[39;49m\u001b[39m\"\u001b[39;49m,\n\u001b[0;32m     53\u001b[0m         (size[\u001b[39m0\u001b[39;49m] \u001b[39m*\u001b[39;49m \u001b[39m3\u001b[39;49m \u001b[39m+\u001b[39;49m \u001b[39m3\u001b[39;49m) \u001b[39m&\u001b[39;49m \u001b[39m-\u001b[39;49m\u001b[39m4\u001b[39;49m,\n\u001b[0;32m     54\u001b[0m         \u001b[39m-\u001b[39;49m\u001b[39m1\u001b[39;49m,\n\u001b[0;32m     55\u001b[0m     )\n\u001b[0;32m     56\u001b[0m     \u001b[39mif\u001b[39;00m bbox:\n\u001b[0;32m     57\u001b[0m         x0, y0 \u001b[39m=\u001b[39m offset\n",
      "File \u001b[1;32mc:\\Users\\somes\\AppData\\Local\\Programs\\Python\\Python310\\lib\\site-packages\\PIL\\Image.py:2708\u001b[0m, in \u001b[0;36mfrombytes\u001b[1;34m(mode, size, data, decoder_name, *args)\u001b[0m\n\u001b[0;32m   2704\u001b[0m         color \u001b[39m=\u001b[39m im\u001b[39m.\u001b[39mpalette\u001b[39m.\u001b[39mgetcolor(color)\n\u001b[0;32m   2705\u001b[0m     \u001b[39mreturn\u001b[39;00m im\u001b[39m.\u001b[39m_new(core\u001b[39m.\u001b[39mfill(mode, size, color))\n\u001b[1;32m-> 2708\u001b[0m \u001b[39mdef\u001b[39;00m \u001b[39mfrombytes\u001b[39m(mode, size, data, decoder_name\u001b[39m=\u001b[39m\u001b[39m\"\u001b[39m\u001b[39mraw\u001b[39m\u001b[39m\"\u001b[39m, \u001b[39m*\u001b[39margs):\n\u001b[0;32m   2709\u001b[0m     \u001b[39m\"\"\"\u001b[39;00m\n\u001b[0;32m   2710\u001b[0m \u001b[39m    Creates a copy of an image memory from pixel data in a buffer.\u001b[39;00m\n\u001b[0;32m   2711\u001b[0m \n\u001b[1;32m   (...)\u001b[0m\n\u001b[0;32m   2729\u001b[0m \u001b[39m    :returns: An :py:class:`~PIL.Image.Image` object.\u001b[39;00m\n\u001b[0;32m   2730\u001b[0m \u001b[39m    \"\"\"\u001b[39;00m\n\u001b[0;32m   2732\u001b[0m     _check_size(size)\n",
      "\u001b[1;31mKeyboardInterrupt\u001b[0m: "
     ]
    }
   ],
   "source": [
    "#getting first frame\n",
    "imgPrev = pyautogui.screenshot()\n",
    "imgPrev = cv2.cvtColor(np.array(imgPrev), cv2.COLOR_RGB2BGR)\n",
    "\n",
    "while(True):  \n",
    "    tic()\n",
    "    #getting new frame\n",
    "    imgNew = pyautogui.screenshot()\n",
    "    imgNew = cv2.cvtColor(np.array(imgNew), cv2.COLOR_RGB2BGR)\n",
    "    \n",
    "    #checking if screenshot exists\n",
    "    if imgNew is not None:\n",
    "        #cv2.imshow(\"screenshots\", imgNew)\n",
    "        DetectionRecord.append(ScanScreen(imgPrev, imgNew))\n",
    "        if len(DetectionRecord) > 10:\n",
    "            DetectionRecord.pop(0)\n",
    "            #checking if record has more danger frames than limit\n",
    "            if ScanRecord(DetectionRecord):\n",
    "                # PREVENT\n",
    "                \n",
    "                print(\"prevented\")\n",
    "                cv2.imshow(\"Seizure Prevention\", protection)\n",
    "                \n",
    "                #DetectionRecord.clear()\n",
    "                DetectionRecord = []\n",
    "            \n",
    "        \n",
    "        imgPrev = imgNew\n",
    "        if cv2.waitKey(1) & 0xFF == ord('q'):\n",
    "            cv2.destroyAllWindows()\n",
    "            continue\n",
    "            #break\n",
    "    else:\n",
    "        print(\"No new frame captured\")\n",
    "        \n",
    "    toc()\n",
    "\n",
    "#cv2.waitKey(0)\n",
    "cv2.destroyAllWindows()"
   ]
  }
 ],
 "metadata": {
  "kernelspec": {
   "display_name": "Python 3.10.0 64-bit",
   "language": "python",
   "name": "python3"
  },
  "language_info": {
   "codemirror_mode": {
    "name": "ipython",
    "version": 3
   },
   "file_extension": ".py",
   "mimetype": "text/x-python",
   "name": "python",
   "nbconvert_exporter": "python",
   "pygments_lexer": "ipython3",
   "version": "3.10.0"
  },
  "vscode": {
   "interpreter": {
    "hash": "5522f76353c32ba4c32b6881d1f9b4e54f3ea3848cca2a84c38b935058e1a4a4"
   }
  }
 },
 "nbformat": 4,
 "nbformat_minor": 4
}
